{
 "cells": [
  {
   "cell_type": "markdown",
   "metadata": {},
   "source": [
    "# Guia busqueda binaria"
   ]
  },
  {
   "cell_type": "markdown",
   "metadata": {},
   "source": [
    "### La siguiente guia se obtendrá conocimientos básicos de arboles para ello se necesita programación dedicada a objetos y nociones de listas."
   ]
  },
  {
   "cell_type": "markdown",
   "metadata": {},
   "source": [
    "####implementar:  clase Nodo, y luego imprimir distintos ordenes de busquedas"
   ]
  },
  {
   "cell_type": "code",
   "execution_count": 2,
   "metadata": {},
   "outputs": [],
   "source": [
    "class Nodo():\n",
    "    def __init__(self,valor,izq=None,der=None):\n",
    "        self.valor = valor\n",
    "        self.izq = izq\n",
    "        self.der = der"
   ]
  },
  {
   "cell_type": "code",
   "execution_count": 3,
   "metadata": {},
   "outputs": [],
   "source": [
    "#Creamos el  arbol con la clase Nodo \n",
    "a1 = Nodo (12, Nodo (8,Nodo(4),Nodo(10,Nodo(9),Nodo(11))), Nodo(25,Nodo(17),Nodo(30,Nodo (28),Nodo(50))))\n"
   ]
  },
  {
   "cell_type": "code",
   "execution_count": 4,
   "metadata": {},
   "outputs": [],
   "source": [
    "#Buscar en el arbol creado , un nodo dado.\n",
    "\n",
    "def buscarEnArbol(n,arbol):\n",
    "    next #borrar linea\n",
    "    # Arbol vacio To do \n",
    "    #si arbol es None then return False.\n",
    "    #sino fijarse si es igual al valor entonces devolver TRUE \n",
    "    #caso contrrario si n < arbol.valor entonces tomar la ramificacion debida\n",
    "    #caso contrrario si n > arbol.valor entonces tomar la ramificacion debida\n"
   ]
  },
  {
   "cell_type": "code",
   "execution_count": 5,
   "metadata": {},
   "outputs": [],
   "source": [
    "def contarNodo(arbol):\n",
    "    if arbol == None:\n",
    "        return 0\n",
    "    elif arbol.izq == None and arbol.der == None:\n",
    "        return 0\n",
    "    return 1 + contarNodo(arbol.der) + contarNodo(arbol.izq)\n"
   ]
  },
  {
   "cell_type": "code",
   "execution_count": 6,
   "metadata": {},
   "outputs": [],
   "source": [
    "# Funcion que devuelve la cantidad de hojas de un arbol dado\n",
    "\n",
    "def contarHoja(arbol):\n",
    "    if arbol == None:\n",
    "        return 0\n",
    "    elif arbol.izq == None and arbol.der == None:\n",
    "        return 1\n",
    "    return contarHoja(arbol.izq) + contarHoja(arbol.der)\n"
   ]
  },
  {
   "cell_type": "code",
   "execution_count": 7,
   "metadata": {},
   "outputs": [],
   "source": [
    "\n",
    "def contarElemento(arbol):\n",
    "    if arbol==None:\n",
    "        return 0\n",
    "    return 1 + contarElemento(arbol.der) + contarElemento(arbol.izq)\n"
   ]
  },
  {
   "cell_type": "code",
   "execution_count": 9,
   "metadata": {},
   "outputs": [
    {
     "ename": "IndentationError",
     "evalue": "unindent does not match any outer indentation level (<tokenize>, line 9)",
     "output_type": "error",
     "traceback": [
      "\u001b[0;36m  File \u001b[0;32m\"<tokenize>\"\u001b[0;36m, line \u001b[0;32m9\u001b[0m\n\u001b[0;31m    else:\u001b[0m\n\u001b[0m    ^\u001b[0m\n\u001b[0;31mIndentationError\u001b[0m\u001b[0;31m:\u001b[0m unindent does not match any outer indentation level\n"
     ]
    }
   ],
   "source": [
    "#Funcion que devuelve el arbol con un elemento nodo agregado en una rama especifica.\n",
    "def insertar(a,arbol):\n",
    "   # If arbol es vacio entonces usar la clase Nodo para agregar al arbol el elemento. \n",
    "   if  arbol.izq == None and arbol.der == None:\n",
    "        if a<= arbol.valor:\n",
    "            arbol.izq = Nodo(a)\n",
    "        else:\n",
    "            arbol.der= Nodo(a)\n",
    "    else:\n",
    "       # completar: ¿què pasa con un arbol NO vacio?\n",
    "        if a<= arbol.valor:\n",
    "            arbol = Nodo(arbol.valor,insertar(a,arbol.izq) )\n",
    "        else:\n",
    "            arbol= Nodo(arbol.valor, arbol.izq.valor,insertar(a,arbol.der))\n",
    "\n",
    "\n"
   ]
  },
  {
   "cell_type": "code",
   "execution_count": 10,
   "metadata": {},
   "outputs": [],
   "source": [
    "#ordenes. \n",
    "def enOrden(arbol):\n",
    "    if arbol == None:\n",
    "        return []\n",
    "    return enOrden(arbol.izq) + [arbol.valor] + enOrden(arbol.der)\n",
    "\n",
    "def  posOrden(arbol):\n",
    "    if arbol == None:\n",
    "        return []\n",
    "    return posOrden(arbol.izq) + posOrden(arbol.der) +[arbol.valor]\n",
    "def preOrden(arbol):\n",
    "    if arbol==None:\n",
    "        return []\n",
    "    return [arbol.valor] + preOrden(arbol.izq) + preOrden(arbol.der)\n"
   ]
  },
  {
   "cell_type": "code",
   "execution_count": 12,
   "metadata": {},
   "outputs": [
    {
     "name": "stdout",
     "output_type": "stream",
     "text": [
      "[4, 8, 9, 10, 11, 12, 17, 25, 28, 30, 50]\n",
      "[4, 9, 11, 10, 8, 17, 28, 50, 30, 25, 12]\n",
      "[12, 8, 4, 10, 9, 11, 25, 17, 30, 28, 50]\n",
      "None\n",
      "Nodos :  5\n",
      "Hojas:  6\n"
     ]
    },
    {
     "ename": "NameError",
     "evalue": "name 'insertar' is not defined",
     "output_type": "error",
     "traceback": [
      "\u001b[0;31m---------------------------------------------------------------------------\u001b[0m",
      "\u001b[0;31mNameError\u001b[0m                                 Traceback (most recent call last)",
      "\u001b[0;32m<ipython-input-12-d57ca070e8f2>\u001b[0m in \u001b[0;36m<module>\u001b[0;34m\u001b[0m\n\u001b[1;32m     14\u001b[0m \u001b[0mprint\u001b[0m \u001b[0;34m(\u001b[0m\u001b[0;34m\"Nodos : \"\u001b[0m\u001b[0;34m,\u001b[0m \u001b[0mcontarNodo\u001b[0m\u001b[0;34m(\u001b[0m\u001b[0ma1\u001b[0m\u001b[0;34m)\u001b[0m\u001b[0;34m)\u001b[0m\u001b[0;34m\u001b[0m\u001b[0;34m\u001b[0m\u001b[0m\n\u001b[1;32m     15\u001b[0m \u001b[0mprint\u001b[0m \u001b[0;34m(\u001b[0m\u001b[0;34m'Hojas: '\u001b[0m\u001b[0;34m,\u001b[0m\u001b[0mcontarHoja\u001b[0m\u001b[0;34m(\u001b[0m\u001b[0ma1\u001b[0m\u001b[0;34m)\u001b[0m\u001b[0;34m)\u001b[0m\u001b[0;34m\u001b[0m\u001b[0;34m\u001b[0m\u001b[0m\n\u001b[0;32m---> 16\u001b[0;31m \u001b[0mprint\u001b[0m \u001b[0;34m(\u001b[0m\u001b[0;34m'Valor insertado'\u001b[0m\u001b[0;34m,\u001b[0m \u001b[0minsertar\u001b[0m\u001b[0;34m(\u001b[0m\u001b[0;36m16\u001b[0m\u001b[0;34m,\u001b[0m\u001b[0ma1\u001b[0m\u001b[0;34m)\u001b[0m\u001b[0;34m)\u001b[0m\u001b[0;34m\u001b[0m\u001b[0;34m\u001b[0m\u001b[0m\n\u001b[0m\u001b[1;32m     17\u001b[0m \u001b[0mprint\u001b[0m \u001b[0;34m(\u001b[0m\u001b[0;34m'Nodos: '\u001b[0m\u001b[0;34m,\u001b[0m \u001b[0mcontarNodo\u001b[0m\u001b[0;34m(\u001b[0m\u001b[0ma1\u001b[0m\u001b[0;34m)\u001b[0m\u001b[0;34m)\u001b[0m\u001b[0;34m\u001b[0m\u001b[0;34m\u001b[0m\u001b[0m\n\u001b[1;32m     18\u001b[0m \u001b[0mprint\u001b[0m \u001b[0;34m(\u001b[0m\u001b[0;34m'Hojas: '\u001b[0m\u001b[0;34m,\u001b[0m\u001b[0mcontarHoja\u001b[0m\u001b[0;34m(\u001b[0m\u001b[0ma1\u001b[0m\u001b[0;34m)\u001b[0m\u001b[0;34m)\u001b[0m\u001b[0;34m\u001b[0m\u001b[0;34m\u001b[0m\u001b[0m\n",
      "\u001b[0;31mNameError\u001b[0m: name 'insertar' is not defined"
     ]
    }
   ],
   "source": [
    "# Mostrar en consola: (ya realizado por docente)\n",
    "\n",
    "#ordenar el arbol a1 creado mas arriba con los tres ordenes y mostrarlo  (imprimir el array)  \n",
    "#buscar en el arbol un valor de hoja=12, ¿devolvera falso?.\n",
    "#contar los nodos y hojas e imprimirlos.\n",
    "#insertar un nodo nuevo\n",
    "#contar nuevamente nodos y hojas e imprimirlos.\n",
    "\n",
    "\n",
    "print (enOrden(a1))\n",
    "print (posOrden(a1))\n",
    "print (preOrden(a1))\n",
    "print (buscarEnArbol(12,a1))\n",
    "print (\"Nodos : \", contarNodo(a1))\n",
    "print ('Hojas: ',contarHoja(a1))\n",
    "print ('Valor insertado', insertar(16,a1))\n",
    "print ('Nodos: ', contarNodo(a1))\n",
    "print ('Hojas: ',contarHoja(a1))\n",
    "print (preOrden(a1))\n",
    "print (contarElemento(a1))"
   ]
  },
  {
   "cell_type": "code",
   "execution_count": null,
   "metadata": {},
   "outputs": [],
   "source": []
  }
 ],
 "metadata": {
  "kernelspec": {
   "display_name": "Python 3",
   "language": "python",
   "name": "python3"
  },
  "language_info": {
   "codemirror_mode": {
    "name": "ipython",
    "version": 3
   },
   "file_extension": ".py",
   "mimetype": "text/x-python",
   "name": "python",
   "nbconvert_exporter": "python",
   "pygments_lexer": "ipython3",
   "version": "3.7.3"
  }
 },
 "nbformat": 4,
 "nbformat_minor": 4
}
