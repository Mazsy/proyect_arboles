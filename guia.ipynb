{
 "cells": [
  {
   "cell_type": "code",
   "execution_count": 1,
   "metadata": {},
   "outputs": [],
   "source": [
    "class Nodo():\n",
    "    def __init__(self,valor,izq=None,der=None):\n",
    "        self.valor = valor\n",
    "        self.izq = izq\n",
    "        self.der = der"
   ]
  },
  {
   "cell_type": "code",
   "execution_count": 2,
   "metadata": {},
   "outputs": [],
   "source": [
    "#Crear  arbol.\n",
    "a1 = Nodo (12, Nodo (8,Nodo(4),Nodo(10,Nodo(9),Nodo(11))), Nodo(25,Nodo(17),Nodo(30,Nodo (28),Nodo(50))))\n"
   ]
  },
  {
   "cell_type": "code",
   "execution_count": 3,
   "metadata": {},
   "outputs": [],
   "source": [
    "\n",
    "def buscarEnArbol(n,arbol):\n",
    "    # Arbol vacio To do \n",
    "    if arbol==None:\n",
    "        return False\n",
    "    else:\n",
    "        if n == arbol.valor:\n",
    "            return True\n",
    "        else:\n",
    "            if n < arbol.valor:\n",
    "                return buscarEnArbol(n,arbol.izq)\n",
    "            else:\n",
    "                return buscarEnArbol(n,arbol.der)\n",
    "            \n"
   ]
  },
  {
   "cell_type": "code",
   "execution_count": 4,
   "metadata": {},
   "outputs": [],
   "source": [
    "def contarNodo(arbol):\n",
    "    if arbol == None:\n",
    "        return 0\n",
    "    elif arbol.izq == None and arbol.der == None:\n",
    "        return 0\n",
    "    return 1 + contarNodo(arbol.der) + contarNodo(arbol.izq)\n"
   ]
  },
  {
   "cell_type": "code",
   "execution_count": 5,
   "metadata": {},
   "outputs": [],
   "source": [
    "\n",
    "def contarHoja(arbol):\n",
    "    if arbol == None:\n",
    "        return 0\n",
    "    elif arbol.izq == None and arbol.der == None:\n",
    "        return 1\n",
    "    return contarHoja(arbol.izq) + contarHoja(arbol.der)\n"
   ]
  },
  {
   "cell_type": "code",
   "execution_count": 6,
   "metadata": {},
   "outputs": [],
   "source": [
    "def contarElemento(arbol):\n",
    "    if arbol==None:\n",
    "        return 0\n",
    "    return 1 + contarElemento(arbol.der) + contarElemento(arbol.izq)\n"
   ]
  },
  {
   "cell_type": "code",
   "execution_count": 7,
   "metadata": {},
   "outputs": [],
   "source": [
    "def insertar(a,arbol):\n",
    "    if arbol == None:\n",
    "        arbol = Nodo(a)\n",
    "    if  arbol.izq == None and arbol.der == None:\n",
    "        if a<= arbol.valor:\n",
    "            arbol.izq = Nodo(a)\n",
    "        else:\n",
    "            arbol.der= Nodo(a)\n",
    "    else:\n",
    "        if a<= arbol.valor:\n",
    "            arbol = Nodo(arbol.valor,insertar(a,arbol.izq) )\n",
    "        else:\n",
    "            arbol= Nodo(arbol.valor, arbol.izq.valor,insertar(a,arbol.der))\n",
    "\n",
    "\n"
   ]
  },
  {
   "cell_type": "code",
   "execution_count": 8,
   "metadata": {},
   "outputs": [],
   "source": [
    "def enOrden(arbol):\n",
    "    if arbol == None:\n",
    "        return []\n",
    "    return enOrden(arbol.izq) + [arbol.valor] + enOrden(arbol.der)\n",
    "\n",
    "def  posOrden(arbol):\n",
    "    if arbol == None:\n",
    "        return []\n",
    "    return posOrden(arbol.izq) + posOrden(arbol.der) +[arbol.valor]\n",
    "def preOrden(arbol):\n",
    "    if arbol==None:\n",
    "        return []\n",
    "    return [arbol.valor] + preOrden(arbol.izq) + preOrden(arbol.der)\n"
   ]
  },
  {
   "cell_type": "code",
   "execution_count": 9,
   "metadata": {},
   "outputs": [
    {
     "name": "stdout",
     "output_type": "stream",
     "text": [
      "[4, 8, 9, 10, 11, 12, 17, 25, 28, 30, 50]\n",
      "[4, 9, 11, 10, 8, 17, 28, 50, 30, 25, 12]\n",
      "[12, 8, 4, 10, 9, 11, 25, 17, 30, 28, 50]\n",
      "True\n",
      "Nodos :  5\n",
      "Hojas:  6\n",
      "Valor insertado None\n",
      "Nodos:  6\n",
      "Hojas:  6\n",
      "[12, 8, 4, 10, 9, 11, 25, 17, 16, 30, 28, 50]\n",
      "12\n"
     ]
    }
   ],
   "source": [
    "    \n",
    "print (enOrden(a1))\n",
    "print (posOrden(a1))\n",
    "print (preOrden(a1))\n",
    "print (buscarEnArbol(12,a1))\n",
    "print (\"Nodos : \", contarNodo(a1))\n",
    "print ('Hojas: ',contarHoja(a1))\n",
    "print ('Valor insertado', insertar(16,a1))\n",
    "print ('Nodos: ', contarNodo(a1))\n",
    "print ('Hojas: ',contarHoja(a1))\n",
    "print (preOrden(a1))\n",
    "print (contarElemento(a1))"
   ]
  }
 ],
 "metadata": {
  "kernelspec": {
   "display_name": "Python 3",
   "language": "python",
   "name": "python3"
  },
  "language_info": {
   "codemirror_mode": {
    "name": "ipython",
    "version": 3
   },
   "file_extension": ".py",
   "mimetype": "text/x-python",
   "name": "python",
   "nbconvert_exporter": "python",
   "pygments_lexer": "ipython3",
   "version": "3.7.3"
  }
 },
 "nbformat": 4,
 "nbformat_minor": 4
}
